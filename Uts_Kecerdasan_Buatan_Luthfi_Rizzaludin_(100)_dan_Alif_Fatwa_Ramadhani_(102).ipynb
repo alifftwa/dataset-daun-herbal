{
  "nbformat": 4,
  "nbformat_minor": 0,
  "metadata": {
    "colab": {
      "provenance": [],
      "include_colab_link": true
    },
    "kernelspec": {
      "name": "python3",
      "display_name": "Python 3"
    },
    "language_info": {
      "name": "python"
    }
  },
  "cells": [
    {
      "cell_type": "markdown",
      "metadata": {
        "id": "view-in-github",
        "colab_type": "text"
      },
      "source": [
        "<a href=\"https://colab.research.google.com/github/alifftwa/Dataset-Daun-Jeruk-Nipis-dan-Daun-Kemangi_100_102/blob/main/Uts_Kecerdasan_Buatan_Luthfi_Rizzaludin_(100)_dan_Alif_Fatwa_Ramadhani_(102).ipynb\" target=\"_parent\"><img src=\"https://colab.research.google.com/assets/colab-badge.svg\" alt=\"Open In Colab\"/></a>"
      ]
    },
    {
      "cell_type": "code",
      "execution_count": null,
      "metadata": {
        "colab": {
          "base_uri": "https://localhost:8080/"
        },
        "id": "YHIicQ0pLWip",
        "outputId": "b67d2406-55fc-4f74-fe3f-bcab8cbf9038"
      },
      "outputs": [
        {
          "output_type": "stream",
          "name": "stdout",
          "text": [
            "Mounted at /content/gdrive\n"
          ]
        }
      ],
      "source": [
        "from google.colab import drive\n",
        "drive.mount('/content/gdrive')"
      ]
    },
    {
      "cell_type": "code",
      "source": [
        "from google.colab import drive\n",
        "drive.mount('/content/drive')"
      ],
      "metadata": {
        "colab": {
          "base_uri": "https://localhost:8080/"
        },
        "id": "W1m7cW_8NNuZ",
        "outputId": "b3763b6c-433a-4de3-b329-7bd94fdb17a4"
      },
      "execution_count": null,
      "outputs": [
        {
          "output_type": "stream",
          "name": "stdout",
          "text": [
            "Mounted at /content/drive\n"
          ]
        }
      ]
    },
    {
      "cell_type": "code",
      "source": [
        "%cd /content/gdrive/My Drive/Colab Notebooks/Coba"
      ],
      "metadata": {
        "colab": {
          "base_uri": "https://localhost:8080/"
        },
        "id": "d30147b6NXNc",
        "outputId": "10e06cb4-e646-4eff-b261-f77d6952591a"
      },
      "execution_count": null,
      "outputs": [
        {
          "output_type": "stream",
          "name": "stdout",
          "text": [
            "[Errno 107] Transport endpoint is not connected: '/content/gdrive/My Drive/Colab Notebooks/Coba'\n",
            "/content\n"
          ]
        }
      ]
    },
    {
      "cell_type": "code",
      "source": [
        "import os\n",
        "\n",
        "\n",
        "\n",
        "train_dir = \"/content/drive/My Drive/Colab Notebooks/Coba/train\"\n",
        "val_dir = \"/content/drive/My Drive/Colab Notebooks/Coba/test\"\n",
        "\n",
        "jeruk_train_path = train_dir +'/Daun Jeruk'\n",
        "kemangi_train_path = train_dir +'/Daun Kemangi'\n",
        "jeruk_val_path = val_dir +'/Daun Jeruk'\n",
        "kemangi_val_path = val_dir +'/Daun Kemangi'\n",
        "\n",
        "jeruk_len_train = len(os.listdir(jeruk_train_path))\n",
        "kemangi_len_train = len(os.listdir(kemangi_train_path))\n",
        "jeruk_len_val = len(os.listdir(jeruk_val_path))\n",
        "kemangi_len_val = len(os.listdir(kemangi_val_path))\n",
        "\n",
        "print(\"jumlah dataset Training : \", jeruk_len_train + jeruk_len_train)\n",
        "print(\"jumlah dataset validasi : \", jeruk_len_val + jeruk_len_val)\n",
        "print(\"\\n\\n\")\n",
        "print(\"jumlah train kelas jeruk : \", jeruk_len_train)\n",
        "print(\"jumlah train kelas kemangi : \", kemangi_len_train)\n",
        "print(\"jumlah validasi kelas jeruk : \", jeruk_len_val)\n",
        "print(\"jumlah validasi kelas kemangi : \", kemangi_len_val)"
      ],
      "metadata": {
        "colab": {
          "base_uri": "https://localhost:8080/"
        },
        "id": "k4cCPRdMNgnm",
        "outputId": "3ae90ff5-a3ff-4415-9f26-d1bd376fd56a"
      },
      "execution_count": null,
      "outputs": [
        {
          "output_type": "stream",
          "name": "stdout",
          "text": [
            "jumlah dataset Training :  100\n",
            "jumlah dataset validasi :  100\n",
            "\n",
            "\n",
            "\n",
            "jumlah train kelas jeruk :  50\n",
            "jumlah train kelas kemangi :  50\n",
            "jumlah validasi kelas jeruk :  50\n",
            "jumlah validasi kelas kemangi :  50\n"
          ]
        }
      ]
    },
    {
      "cell_type": "code",
      "source": [
        "import tensorflow as tf\n",
        "from tensorflow.keras.optimizers import Adam\n",
        "from tensorflow.keras.preprocessing.image import ImageDataGenerator"
      ],
      "metadata": {
        "id": "2NzaaystNmJm"
      },
      "execution_count": null,
      "outputs": []
    },
    {
      "cell_type": "code",
      "source": [
        "train_datagen = ImageDataGenerator(\n",
        "      rescale=1./255,\n",
        "      rotation_range=40,\n",
        "      width_shift_range=0.2,\n",
        "      height_shift_range=0.2,\n",
        "      shear_range=0.2,\n",
        "      zoom_range=0.2,\n",
        "      horizontal_flip=True,\n",
        "      fill_mode='nearest')\n",
        "\n",
        "test_datagen = ImageDataGenerator(rescale=1./255)\n",
        "\n",
        "train_generator = train_datagen.flow_from_directory(\n",
        "        train_dir,\n",
        "        target_size=(50, 50),\n",
        "        batch_size=20,\n",
        "        class_mode='binary')\n",
        "\n",
        "validation_generator = test_datagen.flow_from_directory(\n",
        "        val_dir,\n",
        "        target_size=(50, 50),\n",
        "        batch_size=20,\n",
        "        class_mode='binary')"
      ],
      "metadata": {
        "colab": {
          "base_uri": "https://localhost:8080/"
        },
        "id": "yiobHM7mRZVW",
        "outputId": "433b26f5-f6a2-4138-f734-edc3e878c2a3"
      },
      "execution_count": null,
      "outputs": [
        {
          "output_type": "stream",
          "name": "stdout",
          "text": [
            "Found 100 images belonging to 2 classes.\n",
            "Found 100 images belonging to 2 classes.\n"
          ]
        }
      ]
    },
    {
      "cell_type": "code",
      "source": [
        "from tensorflow.keras.models import Sequential\n",
        "from tensorflow.keras.layers import InputLayer, Dense, Conv2D, AveragePooling2D, Flatten, GlobalAveragePooling2D, Dropout"
      ],
      "metadata": {
        "id": "JHNf_iS4SJ8Y"
      },
      "execution_count": null,
      "outputs": []
    },
    {
      "cell_type": "code",
      "source": [
        "model = Sequential()\n",
        "\n",
        "model.add(InputLayer(input_shape=[50, 50,3]))\n",
        "model.add(Conv2D(filters=64, kernel_size=3, strides=1, padding='same', activation='relu'))\n",
        "model.add(AveragePooling2D(pool_size=2, padding='same'))\n",
        "model.add(Conv2D(filters=128, kernel_size=3, strides=1, padding='same', activation='relu'))\n",
        "model.add(AveragePooling2D(pool_size=2, padding='same'))\n",
        "model.add(Conv2D(filters=256, kernel_size=3, strides=1, padding='same', activation='relu'))\n",
        "model.add(AveragePooling2D(pool_size=2, padding='same'))\n",
        "model.add(Conv2D(filters=256, kernel_size=3, strides=1, padding='same', activation='relu'))\n",
        "model.add(AveragePooling2D(pool_size=2, padding='same'))\n",
        "model.add(GlobalAveragePooling2D())\n",
        "model.add(Flatten())\n",
        "model.add(Dropout(0.0001))"
      ],
      "metadata": {
        "id": "ziMKeaePSMW-"
      },
      "execution_count": null,
      "outputs": []
    },
    {
      "cell_type": "code",
      "source": [
        "\n",
        "model.add(Dense(1024, activation='relu'))\n",
        "model.add(Dropout(0.0001))\n",
        "model.add(Dense(1024, activation='relu'))\n",
        "model.add(Dropout(0.0001))\n",
        "model.add(Dense(1, activation='sigmoid'))"
      ],
      "metadata": {
        "id": "L1cOOKikSPD0"
      },
      "execution_count": null,
      "outputs": []
    },
    {
      "cell_type": "code",
      "source": [
        "\n",
        "print(model.summary())"
      ],
      "metadata": {
        "colab": {
          "base_uri": "https://localhost:8080/"
        },
        "id": "vDvNL9B7SR0t",
        "outputId": "dcf2c5a1-d20c-43e3-dc13-e6c88827851a"
      },
      "execution_count": null,
      "outputs": [
        {
          "output_type": "stream",
          "name": "stdout",
          "text": [
            "Model: \"sequential\"\n",
            "_________________________________________________________________\n",
            " Layer (type)                Output Shape              Param #   \n",
            "=================================================================\n",
            " conv2d (Conv2D)             (None, 50, 50, 64)        1792      \n",
            "                                                                 \n",
            " average_pooling2d (AverageP  (None, 25, 25, 64)       0         \n",
            " ooling2D)                                                       \n",
            "                                                                 \n",
            " conv2d_1 (Conv2D)           (None, 25, 25, 128)       73856     \n",
            "                                                                 \n",
            " average_pooling2d_1 (Averag  (None, 13, 13, 128)      0         \n",
            " ePooling2D)                                                     \n",
            "                                                                 \n",
            " conv2d_2 (Conv2D)           (None, 13, 13, 256)       295168    \n",
            "                                                                 \n",
            " average_pooling2d_2 (Averag  (None, 7, 7, 256)        0         \n",
            " ePooling2D)                                                     \n",
            "                                                                 \n",
            " conv2d_3 (Conv2D)           (None, 7, 7, 256)         590080    \n",
            "                                                                 \n",
            " average_pooling2d_3 (Averag  (None, 4, 4, 256)        0         \n",
            " ePooling2D)                                                     \n",
            "                                                                 \n",
            " global_average_pooling2d (G  (None, 256)              0         \n",
            " lobalAveragePooling2D)                                          \n",
            "                                                                 \n",
            " flatten (Flatten)           (None, 256)               0         \n",
            "                                                                 \n",
            " dropout (Dropout)           (None, 256)               0         \n",
            "                                                                 \n",
            " dense (Dense)               (None, 1024)              263168    \n",
            "                                                                 \n",
            " dropout_1 (Dropout)         (None, 1024)              0         \n",
            "                                                                 \n",
            " dense_1 (Dense)             (None, 1024)              1049600   \n",
            "                                                                 \n",
            " dropout_2 (Dropout)         (None, 1024)              0         \n",
            "                                                                 \n",
            " dense_2 (Dense)             (None, 1)                 1025      \n",
            "                                                                 \n",
            "=================================================================\n",
            "Total params: 2,274,689\n",
            "Trainable params: 2,274,689\n",
            "Non-trainable params: 0\n",
            "_________________________________________________________________\n",
            "None\n"
          ]
        }
      ]
    },
    {
      "cell_type": "code",
      "source": [
        "\n",
        "from tensorflow.keras.optimizers import Adam\n",
        "\n",
        "model.compile(optimizer=Adam(lr=0.0001), \n",
        "              loss='binary_crossentropy', \n",
        "              metrics=['acc'])"
      ],
      "metadata": {
        "colab": {
          "base_uri": "https://localhost:8080/"
        },
        "id": "w-kQ08IkSVJV",
        "outputId": "3411bc6f-c06b-4407-adb1-50a9ec8ec245"
      },
      "execution_count": null,
      "outputs": [
        {
          "output_type": "stream",
          "name": "stderr",
          "text": [
            "/usr/local/lib/python3.7/dist-packages/keras/optimizers/optimizer_v2/adam.py:110: UserWarning: The `lr` argument is deprecated, use `learning_rate` instead.\n",
            "  super(Adam, self).__init__(name, **kwargs)\n"
          ]
        }
      ]
    },
    {
      "cell_type": "code",
      "source": [
        "from keras.callbacks import ModelCheckpoint, EarlyStopping"
      ],
      "metadata": {
        "id": "EPzOaYL5SXo1"
      },
      "execution_count": null,
      "outputs": []
    },
    {
      "cell_type": "code",
      "source": [
        "\n",
        "callbacks = EarlyStopping(monitor='val_loss', patience=30, verbose=1, mode='auto')        \n",
        "directory_to_save_best_model_file = '/content/drive/My Drive/Colab Notebooks/coba/coba.h5'\n",
        "best_model = ModelCheckpoint(directory_to_save_best_model_file, monitor='val_acc', verbose = 1, save_best_only = True)"
      ],
      "metadata": {
        "id": "pVWBOUF1SaAl"
      },
      "execution_count": null,
      "outputs": []
    },
    {
      "cell_type": "code",
      "source": [
        "history = model.fit(\n",
        "      train_generator,\n",
        "      steps_per_epoch=5,  \n",
        "      epochs=100,\n",
        "      validation_data=validation_generator,\n",
        "      validation_steps=5,  \n",
        "      \n",
        "      callbacks = [callbacks, best_model])"
      ],
      "metadata": {
        "colab": {
          "base_uri": "https://localhost:8080/"
        },
        "id": "RsE-G67DYaF0",
        "outputId": "d0711c9a-2af1-4abd-a06a-461cae3f7b06"
      },
      "execution_count": null,
      "outputs": [
        {
          "output_type": "stream",
          "name": "stdout",
          "text": [
            "Epoch 1/100\n",
            "5/5 [==============================] - ETA: 0s - loss: 0.6845 - acc: 0.5000\n",
            "Epoch 1: val_acc improved from -inf to 0.50000, saving model to /content/drive/My Drive/Colab Notebooks/coba/coba.h5\n",
            "5/5 [==============================] - 56s 10s/step - loss: 0.6845 - acc: 0.5000 - val_loss: 0.6803 - val_acc: 0.5000\n",
            "Epoch 2/100\n",
            "5/5 [==============================] - ETA: 0s - loss: 0.6773 - acc: 0.5000\n",
            "Epoch 2: val_acc did not improve from 0.50000\n",
            "5/5 [==============================] - 9s 2s/step - loss: 0.6773 - acc: 0.5000 - val_loss: 0.6753 - val_acc: 0.5000\n",
            "Epoch 3/100\n",
            "5/5 [==============================] - ETA: 0s - loss: 0.6742 - acc: 0.5000\n",
            "Epoch 3: val_acc did not improve from 0.50000\n",
            "5/5 [==============================] - 9s 2s/step - loss: 0.6742 - acc: 0.5000 - val_loss: 0.6699 - val_acc: 0.5000\n",
            "Epoch 4/100\n",
            "5/5 [==============================] - ETA: 0s - loss: 0.6682 - acc: 0.5000\n",
            "Epoch 4: val_acc did not improve from 0.50000\n",
            "5/5 [==============================] - 9s 2s/step - loss: 0.6682 - acc: 0.5000 - val_loss: 0.6626 - val_acc: 0.5000\n",
            "Epoch 5/100\n",
            "5/5 [==============================] - ETA: 0s - loss: 0.6641 - acc: 0.5000\n",
            "Epoch 5: val_acc did not improve from 0.50000\n",
            "5/5 [==============================] - 9s 2s/step - loss: 0.6641 - acc: 0.5000 - val_loss: 0.6542 - val_acc: 0.5000\n",
            "Epoch 6/100\n",
            "5/5 [==============================] - ETA: 0s - loss: 0.6520 - acc: 0.5000\n",
            "Epoch 6: val_acc did not improve from 0.50000\n",
            "5/5 [==============================] - 9s 2s/step - loss: 0.6520 - acc: 0.5000 - val_loss: 0.6424 - val_acc: 0.5000\n",
            "Epoch 7/100\n",
            "5/5 [==============================] - ETA: 0s - loss: 0.6455 - acc: 0.5000\n",
            "Epoch 7: val_acc did not improve from 0.50000\n",
            "5/5 [==============================] - 9s 2s/step - loss: 0.6455 - acc: 0.5000 - val_loss: 0.6246 - val_acc: 0.5000\n",
            "Epoch 8/100\n",
            "5/5 [==============================] - ETA: 0s - loss: 0.6295 - acc: 0.5800\n",
            "Epoch 8: val_acc improved from 0.50000 to 0.54000, saving model to /content/drive/My Drive/Colab Notebooks/coba/coba.h5\n",
            "5/5 [==============================] - 9s 2s/step - loss: 0.6295 - acc: 0.5800 - val_loss: 0.6008 - val_acc: 0.5400\n",
            "Epoch 9/100\n",
            "5/5 [==============================] - ETA: 0s - loss: 0.6037 - acc: 0.5600\n",
            "Epoch 9: val_acc improved from 0.54000 to 0.86000, saving model to /content/drive/My Drive/Colab Notebooks/coba/coba.h5\n",
            "5/5 [==============================] - 9s 2s/step - loss: 0.6037 - acc: 0.5600 - val_loss: 0.5700 - val_acc: 0.8600\n",
            "Epoch 10/100\n",
            "5/5 [==============================] - ETA: 0s - loss: 0.5659 - acc: 0.6700\n",
            "Epoch 10: val_acc improved from 0.86000 to 0.97000, saving model to /content/drive/My Drive/Colab Notebooks/coba/coba.h5\n",
            "5/5 [==============================] - 9s 2s/step - loss: 0.5659 - acc: 0.6700 - val_loss: 0.5224 - val_acc: 0.9700\n",
            "Epoch 11/100\n",
            "5/5 [==============================] - ETA: 0s - loss: 0.5075 - acc: 0.9000\n",
            "Epoch 11: val_acc did not improve from 0.97000\n",
            "5/5 [==============================] - 9s 2s/step - loss: 0.5075 - acc: 0.9000 - val_loss: 0.4462 - val_acc: 0.8000\n",
            "Epoch 12/100\n",
            "5/5 [==============================] - ETA: 0s - loss: 0.4275 - acc: 0.8700\n",
            "Epoch 12: val_acc did not improve from 0.97000\n",
            "5/5 [==============================] - 9s 2s/step - loss: 0.4275 - acc: 0.8700 - val_loss: 0.3676 - val_acc: 0.8500\n",
            "Epoch 13/100\n",
            "5/5 [==============================] - ETA: 0s - loss: 0.3441 - acc: 0.9500\n",
            "Epoch 13: val_acc improved from 0.97000 to 1.00000, saving model to /content/drive/My Drive/Colab Notebooks/coba/coba.h5\n",
            "5/5 [==============================] - 9s 2s/step - loss: 0.3441 - acc: 0.9500 - val_loss: 0.2416 - val_acc: 1.0000\n",
            "Epoch 14/100\n",
            "5/5 [==============================] - ETA: 0s - loss: 0.2301 - acc: 0.9800\n",
            "Epoch 14: val_acc did not improve from 1.00000\n",
            "5/5 [==============================] - 12s 3s/step - loss: 0.2301 - acc: 0.9800 - val_loss: 0.1404 - val_acc: 1.0000\n",
            "Epoch 15/100\n",
            "5/5 [==============================] - ETA: 0s - loss: 0.1349 - acc: 0.9900\n",
            "Epoch 15: val_acc did not improve from 1.00000\n",
            "5/5 [==============================] - 9s 2s/step - loss: 0.1349 - acc: 0.9900 - val_loss: 0.1005 - val_acc: 1.0000\n",
            "Epoch 16/100\n",
            "5/5 [==============================] - ETA: 0s - loss: 0.0877 - acc: 0.9900\n",
            "Epoch 16: val_acc did not improve from 1.00000\n",
            "5/5 [==============================] - 9s 2s/step - loss: 0.0877 - acc: 0.9900 - val_loss: 0.0300 - val_acc: 1.0000\n",
            "Epoch 17/100\n",
            "5/5 [==============================] - ETA: 0s - loss: 0.1012 - acc: 0.9600\n",
            "Epoch 17: val_acc did not improve from 1.00000\n",
            "5/5 [==============================] - 9s 2s/step - loss: 0.1012 - acc: 0.9600 - val_loss: 0.3916 - val_acc: 0.8000\n",
            "Epoch 18/100\n",
            "5/5 [==============================] - ETA: 0s - loss: 0.1335 - acc: 0.9400\n",
            "Epoch 18: val_acc did not improve from 1.00000\n",
            "5/5 [==============================] - 9s 2s/step - loss: 0.1335 - acc: 0.9400 - val_loss: 0.0555 - val_acc: 1.0000\n",
            "Epoch 19/100\n",
            "5/5 [==============================] - ETA: 0s - loss: 0.0835 - acc: 0.9600\n",
            "Epoch 19: val_acc did not improve from 1.00000\n",
            "5/5 [==============================] - 9s 2s/step - loss: 0.0835 - acc: 0.9600 - val_loss: 0.0485 - val_acc: 0.9900\n",
            "Epoch 20/100\n",
            "5/5 [==============================] - ETA: 0s - loss: 0.2178 - acc: 0.9000\n",
            "Epoch 20: val_acc did not improve from 1.00000\n",
            "5/5 [==============================] - 9s 2s/step - loss: 0.2178 - acc: 0.9000 - val_loss: 0.1427 - val_acc: 0.9300\n",
            "Epoch 21/100\n",
            "5/5 [==============================] - ETA: 0s - loss: 0.3991 - acc: 0.8500\n",
            "Epoch 21: val_acc did not improve from 1.00000\n",
            "5/5 [==============================] - 9s 2s/step - loss: 0.3991 - acc: 0.8500 - val_loss: 0.7416 - val_acc: 0.6500\n",
            "Epoch 22/100\n",
            "5/5 [==============================] - ETA: 0s - loss: 0.2740 - acc: 0.8700\n",
            "Epoch 22: val_acc did not improve from 1.00000\n",
            "5/5 [==============================] - 9s 2s/step - loss: 0.2740 - acc: 0.8700 - val_loss: 0.3400 - val_acc: 0.8100\n",
            "Epoch 23/100\n",
            "5/5 [==============================] - ETA: 0s - loss: 0.2307 - acc: 0.9100\n",
            "Epoch 23: val_acc did not improve from 1.00000\n",
            "5/5 [==============================] - 9s 2s/step - loss: 0.2307 - acc: 0.9100 - val_loss: 0.1576 - val_acc: 0.9200\n",
            "Epoch 24/100\n",
            "5/5 [==============================] - ETA: 0s - loss: 0.1910 - acc: 0.9000\n",
            "Epoch 24: val_acc did not improve from 1.00000\n",
            "5/5 [==============================] - 10s 2s/step - loss: 0.1910 - acc: 0.9000 - val_loss: 0.0245 - val_acc: 1.0000\n",
            "Epoch 25/100\n",
            "5/5 [==============================] - ETA: 0s - loss: 0.1179 - acc: 0.9600\n",
            "Epoch 25: val_acc did not improve from 1.00000\n",
            "5/5 [==============================] - 9s 2s/step - loss: 0.1179 - acc: 0.9600 - val_loss: 0.0217 - val_acc: 1.0000\n",
            "Epoch 26/100\n",
            "5/5 [==============================] - ETA: 0s - loss: 0.0491 - acc: 0.9800\n",
            "Epoch 26: val_acc did not improve from 1.00000\n",
            "5/5 [==============================] - 9s 2s/step - loss: 0.0491 - acc: 0.9800 - val_loss: 0.0807 - val_acc: 0.9800\n",
            "Epoch 27/100\n",
            "5/5 [==============================] - ETA: 0s - loss: 0.0651 - acc: 0.9800\n",
            "Epoch 27: val_acc did not improve from 1.00000\n",
            "5/5 [==============================] - 9s 2s/step - loss: 0.0651 - acc: 0.9800 - val_loss: 0.0204 - val_acc: 1.0000\n",
            "Epoch 28/100\n",
            "5/5 [==============================] - ETA: 0s - loss: 0.0547 - acc: 0.9900\n",
            "Epoch 28: val_acc did not improve from 1.00000\n",
            "5/5 [==============================] - 9s 2s/step - loss: 0.0547 - acc: 0.9900 - val_loss: 0.0197 - val_acc: 1.0000\n",
            "Epoch 29/100\n",
            "5/5 [==============================] - ETA: 0s - loss: 0.0338 - acc: 1.0000\n",
            "Epoch 29: val_acc did not improve from 1.00000\n",
            "5/5 [==============================] - 9s 2s/step - loss: 0.0338 - acc: 1.0000 - val_loss: 0.0147 - val_acc: 1.0000\n",
            "Epoch 30/100\n",
            "5/5 [==============================] - ETA: 0s - loss: 0.0528 - acc: 0.9800\n",
            "Epoch 30: val_acc did not improve from 1.00000\n",
            "5/5 [==============================] - 9s 2s/step - loss: 0.0528 - acc: 0.9800 - val_loss: 0.0150 - val_acc: 1.0000\n",
            "Epoch 31/100\n",
            "5/5 [==============================] - ETA: 0s - loss: 0.0400 - acc: 0.9900\n",
            "Epoch 31: val_acc did not improve from 1.00000\n",
            "5/5 [==============================] - 9s 2s/step - loss: 0.0400 - acc: 0.9900 - val_loss: 0.0102 - val_acc: 1.0000\n",
            "Epoch 32/100\n",
            "5/5 [==============================] - ETA: 0s - loss: 0.0277 - acc: 0.9900\n",
            "Epoch 32: val_acc did not improve from 1.00000\n",
            "5/5 [==============================] - 9s 2s/step - loss: 0.0277 - acc: 0.9900 - val_loss: 0.0083 - val_acc: 1.0000\n",
            "Epoch 33/100\n",
            "5/5 [==============================] - ETA: 0s - loss: 0.0315 - acc: 1.0000\n",
            "Epoch 33: val_acc did not improve from 1.00000\n",
            "5/5 [==============================] - 9s 2s/step - loss: 0.0315 - acc: 1.0000 - val_loss: 0.0075 - val_acc: 1.0000\n",
            "Epoch 34/100\n",
            "5/5 [==============================] - ETA: 0s - loss: 0.0189 - acc: 1.0000\n",
            "Epoch 34: val_acc did not improve from 1.00000\n",
            "5/5 [==============================] - 9s 2s/step - loss: 0.0189 - acc: 1.0000 - val_loss: 0.0065 - val_acc: 1.0000\n",
            "Epoch 35/100\n",
            "5/5 [==============================] - ETA: 0s - loss: 0.0165 - acc: 1.0000\n",
            "Epoch 35: val_acc did not improve from 1.00000\n",
            "5/5 [==============================] - 9s 2s/step - loss: 0.0165 - acc: 1.0000 - val_loss: 0.0084 - val_acc: 1.0000\n",
            "Epoch 36/100\n",
            "5/5 [==============================] - ETA: 0s - loss: 0.0274 - acc: 0.9900\n",
            "Epoch 36: val_acc did not improve from 1.00000\n",
            "5/5 [==============================] - 9s 2s/step - loss: 0.0274 - acc: 0.9900 - val_loss: 0.0099 - val_acc: 1.0000\n",
            "Epoch 37/100\n",
            "5/5 [==============================] - ETA: 0s - loss: 0.0360 - acc: 0.9800\n",
            "Epoch 37: val_acc did not improve from 1.00000\n",
            "5/5 [==============================] - 9s 2s/step - loss: 0.0360 - acc: 0.9800 - val_loss: 0.0056 - val_acc: 1.0000\n",
            "Epoch 38/100\n",
            "5/5 [==============================] - ETA: 0s - loss: 0.0334 - acc: 0.9900\n",
            "Epoch 38: val_acc did not improve from 1.00000\n",
            "5/5 [==============================] - 9s 2s/step - loss: 0.0334 - acc: 0.9900 - val_loss: 0.0047 - val_acc: 1.0000\n",
            "Epoch 39/100\n",
            "5/5 [==============================] - ETA: 0s - loss: 0.0091 - acc: 1.0000\n",
            "Epoch 39: val_acc did not improve from 1.00000\n",
            "5/5 [==============================] - 9s 2s/step - loss: 0.0091 - acc: 1.0000 - val_loss: 0.0121 - val_acc: 1.0000\n",
            "Epoch 40/100\n",
            "5/5 [==============================] - ETA: 0s - loss: 0.0383 - acc: 0.9700\n",
            "Epoch 40: val_acc did not improve from 1.00000\n",
            "5/5 [==============================] - 9s 2s/step - loss: 0.0383 - acc: 0.9700 - val_loss: 0.0070 - val_acc: 1.0000\n",
            "Epoch 41/100\n",
            "5/5 [==============================] - ETA: 0s - loss: 0.0100 - acc: 1.0000\n",
            "Epoch 41: val_acc did not improve from 1.00000\n",
            "5/5 [==============================] - 9s 2s/step - loss: 0.0100 - acc: 1.0000 - val_loss: 0.0098 - val_acc: 1.0000\n",
            "Epoch 42/100\n",
            "5/5 [==============================] - ETA: 0s - loss: 0.0122 - acc: 1.0000\n",
            "Epoch 42: val_acc did not improve from 1.00000\n",
            "5/5 [==============================] - 9s 2s/step - loss: 0.0122 - acc: 1.0000 - val_loss: 0.0033 - val_acc: 1.0000\n",
            "Epoch 43/100\n",
            "5/5 [==============================] - ETA: 0s - loss: 0.0178 - acc: 1.0000\n",
            "Epoch 43: val_acc did not improve from 1.00000\n",
            "5/5 [==============================] - 8s 2s/step - loss: 0.0178 - acc: 1.0000 - val_loss: 0.0026 - val_acc: 1.0000\n",
            "Epoch 44/100\n",
            "5/5 [==============================] - ETA: 0s - loss: 0.0086 - acc: 1.0000\n",
            "Epoch 44: val_acc did not improve from 1.00000\n",
            "5/5 [==============================] - 9s 2s/step - loss: 0.0086 - acc: 1.0000 - val_loss: 0.0066 - val_acc: 1.0000\n",
            "Epoch 45/100\n",
            "5/5 [==============================] - ETA: 0s - loss: 0.0253 - acc: 0.9900\n",
            "Epoch 45: val_acc did not improve from 1.00000\n",
            "5/5 [==============================] - 9s 2s/step - loss: 0.0253 - acc: 0.9900 - val_loss: 0.0048 - val_acc: 1.0000\n",
            "Epoch 46/100\n",
            "5/5 [==============================] - ETA: 0s - loss: 0.0176 - acc: 0.9900\n",
            "Epoch 46: val_acc did not improve from 1.00000\n",
            "5/5 [==============================] - 9s 2s/step - loss: 0.0176 - acc: 0.9900 - val_loss: 0.0021 - val_acc: 1.0000\n",
            "Epoch 47/100\n",
            "5/5 [==============================] - ETA: 0s - loss: 0.0123 - acc: 1.0000\n",
            "Epoch 47: val_acc did not improve from 1.00000\n",
            "5/5 [==============================] - 9s 2s/step - loss: 0.0123 - acc: 1.0000 - val_loss: 0.0030 - val_acc: 1.0000\n",
            "Epoch 48/100\n",
            "5/5 [==============================] - ETA: 0s - loss: 0.0108 - acc: 1.0000\n",
            "Epoch 48: val_acc did not improve from 1.00000\n",
            "5/5 [==============================] - 9s 2s/step - loss: 0.0108 - acc: 1.0000 - val_loss: 0.0024 - val_acc: 1.0000\n",
            "Epoch 49/100\n",
            "5/5 [==============================] - ETA: 0s - loss: 0.0456 - acc: 0.9800\n",
            "Epoch 49: val_acc did not improve from 1.00000\n",
            "5/5 [==============================] - 10s 2s/step - loss: 0.0456 - acc: 0.9800 - val_loss: 0.0092 - val_acc: 1.0000\n",
            "Epoch 50/100\n",
            "5/5 [==============================] - ETA: 0s - loss: 0.0213 - acc: 1.0000\n",
            "Epoch 50: val_acc did not improve from 1.00000\n",
            "5/5 [==============================] - 9s 2s/step - loss: 0.0213 - acc: 1.0000 - val_loss: 0.0109 - val_acc: 1.0000\n",
            "Epoch 51/100\n",
            "5/5 [==============================] - ETA: 0s - loss: 0.0290 - acc: 0.9800\n",
            "Epoch 51: val_acc did not improve from 1.00000\n",
            "5/5 [==============================] - 9s 2s/step - loss: 0.0290 - acc: 0.9800 - val_loss: 0.0036 - val_acc: 1.0000\n",
            "Epoch 52/100\n",
            "5/5 [==============================] - ETA: 0s - loss: 0.0123 - acc: 1.0000\n",
            "Epoch 52: val_acc did not improve from 1.00000\n",
            "5/5 [==============================] - 9s 2s/step - loss: 0.0123 - acc: 1.0000 - val_loss: 0.0020 - val_acc: 1.0000\n",
            "Epoch 53/100\n",
            "5/5 [==============================] - ETA: 0s - loss: 0.0178 - acc: 0.9900\n",
            "Epoch 53: val_acc did not improve from 1.00000\n",
            "5/5 [==============================] - 9s 2s/step - loss: 0.0178 - acc: 0.9900 - val_loss: 0.0073 - val_acc: 1.0000\n",
            "Epoch 54/100\n",
            "5/5 [==============================] - ETA: 0s - loss: 0.0122 - acc: 1.0000\n",
            "Epoch 54: val_acc did not improve from 1.00000\n",
            "5/5 [==============================] - 9s 2s/step - loss: 0.0122 - acc: 1.0000 - val_loss: 0.0012 - val_acc: 1.0000\n",
            "Epoch 55/100\n",
            "5/5 [==============================] - ETA: 0s - loss: 0.0182 - acc: 0.9900\n",
            "Epoch 55: val_acc did not improve from 1.00000\n",
            "5/5 [==============================] - 9s 2s/step - loss: 0.0182 - acc: 0.9900 - val_loss: 0.0011 - val_acc: 1.0000\n",
            "Epoch 56/100\n",
            "5/5 [==============================] - ETA: 0s - loss: 0.0079 - acc: 1.0000\n",
            "Epoch 56: val_acc did not improve from 1.00000\n",
            "5/5 [==============================] - 9s 2s/step - loss: 0.0079 - acc: 1.0000 - val_loss: 0.0028 - val_acc: 1.0000\n",
            "Epoch 57/100\n",
            "5/5 [==============================] - ETA: 0s - loss: 0.0055 - acc: 1.0000\n",
            "Epoch 57: val_acc did not improve from 1.00000\n",
            "5/5 [==============================] - 9s 2s/step - loss: 0.0055 - acc: 1.0000 - val_loss: 0.0010 - val_acc: 1.0000\n",
            "Epoch 58/100\n",
            "5/5 [==============================] - ETA: 0s - loss: 0.0214 - acc: 0.9900\n",
            "Epoch 58: val_acc did not improve from 1.00000\n",
            "5/5 [==============================] - 9s 2s/step - loss: 0.0214 - acc: 0.9900 - val_loss: 0.0010 - val_acc: 1.0000\n",
            "Epoch 59/100\n",
            "5/5 [==============================] - ETA: 0s - loss: 0.0060 - acc: 1.0000\n",
            "Epoch 59: val_acc did not improve from 1.00000\n",
            "5/5 [==============================] - 9s 2s/step - loss: 0.0060 - acc: 1.0000 - val_loss: 0.0022 - val_acc: 1.0000\n",
            "Epoch 60/100\n",
            "5/5 [==============================] - ETA: 0s - loss: 0.0104 - acc: 1.0000\n",
            "Epoch 60: val_acc did not improve from 1.00000\n",
            "5/5 [==============================] - 9s 2s/step - loss: 0.0104 - acc: 1.0000 - val_loss: 7.8417e-04 - val_acc: 1.0000\n",
            "Epoch 61/100\n",
            "5/5 [==============================] - ETA: 0s - loss: 0.0023 - acc: 1.0000\n",
            "Epoch 61: val_acc did not improve from 1.00000\n",
            "5/5 [==============================] - 9s 2s/step - loss: 0.0023 - acc: 1.0000 - val_loss: 8.0332e-04 - val_acc: 1.0000\n",
            "Epoch 62/100\n",
            "5/5 [==============================] - ETA: 0s - loss: 0.0044 - acc: 1.0000\n",
            "Epoch 62: val_acc did not improve from 1.00000\n",
            "5/5 [==============================] - 9s 2s/step - loss: 0.0044 - acc: 1.0000 - val_loss: 7.6110e-04 - val_acc: 1.0000\n",
            "Epoch 63/100\n",
            "5/5 [==============================] - ETA: 0s - loss: 0.0085 - acc: 1.0000\n",
            "Epoch 63: val_acc did not improve from 1.00000\n",
            "5/5 [==============================] - 9s 2s/step - loss: 0.0085 - acc: 1.0000 - val_loss: 0.0010 - val_acc: 1.0000\n",
            "Epoch 64/100\n",
            "5/5 [==============================] - ETA: 0s - loss: 0.0145 - acc: 0.9900\n",
            "Epoch 64: val_acc did not improve from 1.00000\n",
            "5/5 [==============================] - 9s 2s/step - loss: 0.0145 - acc: 0.9900 - val_loss: 0.0049 - val_acc: 1.0000\n",
            "Epoch 65/100\n",
            "5/5 [==============================] - ETA: 0s - loss: 0.0346 - acc: 0.9900\n",
            "Epoch 65: val_acc did not improve from 1.00000\n",
            "5/5 [==============================] - 9s 2s/step - loss: 0.0346 - acc: 0.9900 - val_loss: 0.0038 - val_acc: 1.0000\n",
            "Epoch 66/100\n",
            "5/5 [==============================] - ETA: 0s - loss: 0.0161 - acc: 0.9900\n",
            "Epoch 66: val_acc did not improve from 1.00000\n",
            "5/5 [==============================] - 9s 2s/step - loss: 0.0161 - acc: 0.9900 - val_loss: 7.1261e-04 - val_acc: 1.0000\n",
            "Epoch 67/100\n",
            "5/5 [==============================] - ETA: 0s - loss: 0.0060 - acc: 1.0000\n",
            "Epoch 67: val_acc did not improve from 1.00000\n",
            "5/5 [==============================] - 8s 2s/step - loss: 0.0060 - acc: 1.0000 - val_loss: 0.0044 - val_acc: 1.0000\n",
            "Epoch 68/100\n",
            "5/5 [==============================] - ETA: 0s - loss: 0.0088 - acc: 1.0000\n",
            "Epoch 68: val_acc did not improve from 1.00000\n",
            "5/5 [==============================] - 9s 2s/step - loss: 0.0088 - acc: 1.0000 - val_loss: 8.7038e-04 - val_acc: 1.0000\n",
            "Epoch 69/100\n",
            "5/5 [==============================] - ETA: 0s - loss: 0.0162 - acc: 1.0000\n",
            "Epoch 69: val_acc did not improve from 1.00000\n",
            "5/5 [==============================] - 9s 2s/step - loss: 0.0162 - acc: 1.0000 - val_loss: 4.8580e-04 - val_acc: 1.0000\n",
            "Epoch 70/100\n",
            "5/5 [==============================] - ETA: 0s - loss: 0.0157 - acc: 0.9900\n",
            "Epoch 70: val_acc did not improve from 1.00000\n",
            "5/5 [==============================] - 9s 2s/step - loss: 0.0157 - acc: 0.9900 - val_loss: 4.6388e-04 - val_acc: 1.0000\n",
            "Epoch 71/100\n",
            "5/5 [==============================] - ETA: 0s - loss: 0.0070 - acc: 1.0000\n",
            "Epoch 71: val_acc did not improve from 1.00000\n",
            "5/5 [==============================] - 9s 2s/step - loss: 0.0070 - acc: 1.0000 - val_loss: 4.6368e-04 - val_acc: 1.0000\n",
            "Epoch 72/100\n",
            "5/5 [==============================] - ETA: 0s - loss: 0.0136 - acc: 0.9900\n",
            "Epoch 72: val_acc did not improve from 1.00000\n",
            "5/5 [==============================] - 9s 2s/step - loss: 0.0136 - acc: 0.9900 - val_loss: 4.3605e-04 - val_acc: 1.0000\n",
            "Epoch 73/100\n",
            "5/5 [==============================] - ETA: 0s - loss: 0.0041 - acc: 1.0000\n",
            "Epoch 73: val_acc did not improve from 1.00000\n",
            "5/5 [==============================] - 9s 2s/step - loss: 0.0041 - acc: 1.0000 - val_loss: 4.7249e-04 - val_acc: 1.0000\n",
            "Epoch 74/100\n",
            "5/5 [==============================] - ETA: 0s - loss: 0.0010 - acc: 1.0000    \n",
            "Epoch 74: val_acc did not improve from 1.00000\n",
            "5/5 [==============================] - 10s 2s/step - loss: 0.0010 - acc: 1.0000 - val_loss: 0.0011 - val_acc: 1.0000\n",
            "Epoch 75/100\n",
            "5/5 [==============================] - ETA: 0s - loss: 0.0036 - acc: 1.0000\n",
            "Epoch 75: val_acc did not improve from 1.00000\n",
            "5/5 [==============================] - 9s 2s/step - loss: 0.0036 - acc: 1.0000 - val_loss: 3.6670e-04 - val_acc: 1.0000\n",
            "Epoch 76/100\n",
            "5/5 [==============================] - ETA: 0s - loss: 0.0020 - acc: 1.0000\n",
            "Epoch 76: val_acc did not improve from 1.00000\n",
            "5/5 [==============================] - 9s 2s/step - loss: 0.0020 - acc: 1.0000 - val_loss: 5.2091e-04 - val_acc: 1.0000\n",
            "Epoch 77/100\n",
            "5/5 [==============================] - ETA: 0s - loss: 0.0048 - acc: 1.0000\n",
            "Epoch 77: val_acc did not improve from 1.00000\n",
            "5/5 [==============================] - 9s 2s/step - loss: 0.0048 - acc: 1.0000 - val_loss: 3.4491e-04 - val_acc: 1.0000\n",
            "Epoch 78/100\n",
            "5/5 [==============================] - ETA: 0s - loss: 0.0013 - acc: 1.0000\n",
            "Epoch 78: val_acc did not improve from 1.00000\n",
            "5/5 [==============================] - 9s 2s/step - loss: 0.0013 - acc: 1.0000 - val_loss: 9.0197e-04 - val_acc: 1.0000\n",
            "Epoch 79/100\n",
            "5/5 [==============================] - ETA: 0s - loss: 0.0102 - acc: 0.9900\n",
            "Epoch 79: val_acc did not improve from 1.00000\n",
            "5/5 [==============================] - 9s 2s/step - loss: 0.0102 - acc: 0.9900 - val_loss: 9.9452e-04 - val_acc: 1.0000\n",
            "Epoch 80/100\n",
            "5/5 [==============================] - ETA: 0s - loss: 0.0139 - acc: 1.0000\n",
            "Epoch 80: val_acc did not improve from 1.00000\n",
            "5/5 [==============================] - 9s 2s/step - loss: 0.0139 - acc: 1.0000 - val_loss: 0.0019 - val_acc: 1.0000\n",
            "Epoch 81/100\n",
            "5/5 [==============================] - ETA: 0s - loss: 0.0152 - acc: 0.9900\n",
            "Epoch 81: val_acc did not improve from 1.00000\n",
            "5/5 [==============================] - 9s 2s/step - loss: 0.0152 - acc: 0.9900 - val_loss: 7.0205e-04 - val_acc: 1.0000\n",
            "Epoch 82/100\n",
            "5/5 [==============================] - ETA: 0s - loss: 0.0147 - acc: 1.0000\n",
            "Epoch 82: val_acc did not improve from 1.00000\n",
            "5/5 [==============================] - 9s 2s/step - loss: 0.0147 - acc: 1.0000 - val_loss: 8.4772e-04 - val_acc: 1.0000\n",
            "Epoch 83/100\n",
            "5/5 [==============================] - ETA: 0s - loss: 0.1029 - acc: 0.9500\n",
            "Epoch 83: val_acc did not improve from 1.00000\n",
            "5/5 [==============================] - 9s 2s/step - loss: 0.1029 - acc: 0.9500 - val_loss: 0.0493 - val_acc: 0.9800\n",
            "Epoch 84/100\n",
            "5/5 [==============================] - ETA: 0s - loss: 0.0892 - acc: 0.9700\n",
            "Epoch 84: val_acc did not improve from 1.00000\n",
            "5/5 [==============================] - 9s 2s/step - loss: 0.0892 - acc: 0.9700 - val_loss: 0.0532 - val_acc: 0.9900\n",
            "Epoch 85/100\n",
            "5/5 [==============================] - ETA: 0s - loss: 0.0295 - acc: 0.9900\n",
            "Epoch 85: val_acc did not improve from 1.00000\n",
            "5/5 [==============================] - 9s 2s/step - loss: 0.0295 - acc: 0.9900 - val_loss: 0.0031 - val_acc: 1.0000\n",
            "Epoch 86/100\n",
            "5/5 [==============================] - ETA: 0s - loss: 0.0155 - acc: 0.9900\n",
            "Epoch 86: val_acc did not improve from 1.00000\n",
            "5/5 [==============================] - 9s 2s/step - loss: 0.0155 - acc: 0.9900 - val_loss: 0.0023 - val_acc: 1.0000\n",
            "Epoch 87/100\n",
            "5/5 [==============================] - ETA: 0s - loss: 0.0083 - acc: 1.0000\n",
            "Epoch 87: val_acc did not improve from 1.00000\n",
            "5/5 [==============================] - 8s 2s/step - loss: 0.0083 - acc: 1.0000 - val_loss: 0.0012 - val_acc: 1.0000\n",
            "Epoch 88/100\n",
            "5/5 [==============================] - ETA: 0s - loss: 0.0114 - acc: 0.9900\n",
            "Epoch 88: val_acc did not improve from 1.00000\n",
            "5/5 [==============================] - 9s 2s/step - loss: 0.0114 - acc: 0.9900 - val_loss: 0.0033 - val_acc: 1.0000\n",
            "Epoch 89/100\n",
            "5/5 [==============================] - ETA: 0s - loss: 0.0092 - acc: 1.0000\n",
            "Epoch 89: val_acc did not improve from 1.00000\n",
            "5/5 [==============================] - 9s 2s/step - loss: 0.0092 - acc: 1.0000 - val_loss: 7.9389e-04 - val_acc: 1.0000\n",
            "Epoch 90/100\n",
            "5/5 [==============================] - ETA: 0s - loss: 0.0074 - acc: 1.0000\n",
            "Epoch 90: val_acc did not improve from 1.00000\n",
            "5/5 [==============================] - 9s 2s/step - loss: 0.0074 - acc: 1.0000 - val_loss: 0.0033 - val_acc: 1.0000\n",
            "Epoch 91/100\n",
            "5/5 [==============================] - ETA: 0s - loss: 0.0136 - acc: 1.0000\n",
            "Epoch 91: val_acc did not improve from 1.00000\n",
            "5/5 [==============================] - 9s 2s/step - loss: 0.0136 - acc: 1.0000 - val_loss: 3.6592e-04 - val_acc: 1.0000\n",
            "Epoch 92/100\n",
            "5/5 [==============================] - ETA: 0s - loss: 0.0108 - acc: 0.9900\n",
            "Epoch 92: val_acc did not improve from 1.00000\n",
            "5/5 [==============================] - 8s 2s/step - loss: 0.0108 - acc: 0.9900 - val_loss: 5.3255e-04 - val_acc: 1.0000\n",
            "Epoch 93/100\n",
            "5/5 [==============================] - ETA: 0s - loss: 0.0013 - acc: 1.0000\n",
            "Epoch 93: val_acc did not improve from 1.00000\n",
            "5/5 [==============================] - 9s 2s/step - loss: 0.0013 - acc: 1.0000 - val_loss: 3.4287e-04 - val_acc: 1.0000\n",
            "Epoch 94/100\n",
            "5/5 [==============================] - ETA: 0s - loss: 0.0018 - acc: 1.0000\n",
            "Epoch 94: val_acc did not improve from 1.00000\n",
            "5/5 [==============================] - 9s 2s/step - loss: 0.0018 - acc: 1.0000 - val_loss: 9.1307e-04 - val_acc: 1.0000\n",
            "Epoch 95/100\n",
            "5/5 [==============================] - ETA: 0s - loss: 0.0016 - acc: 1.0000\n",
            "Epoch 95: val_acc did not improve from 1.00000\n",
            "5/5 [==============================] - 9s 2s/step - loss: 0.0016 - acc: 1.0000 - val_loss: 5.8627e-04 - val_acc: 1.0000\n",
            "Epoch 96/100\n",
            "5/5 [==============================] - ETA: 0s - loss: 0.0013 - acc: 1.0000\n",
            "Epoch 96: val_acc did not improve from 1.00000\n",
            "5/5 [==============================] - 9s 2s/step - loss: 0.0013 - acc: 1.0000 - val_loss: 2.5743e-04 - val_acc: 1.0000\n",
            "Epoch 97/100\n",
            "5/5 [==============================] - ETA: 0s - loss: 0.0020 - acc: 1.0000\n",
            "Epoch 97: val_acc did not improve from 1.00000\n",
            "5/5 [==============================] - 9s 2s/step - loss: 0.0020 - acc: 1.0000 - val_loss: 2.9194e-04 - val_acc: 1.0000\n",
            "Epoch 98/100\n",
            "5/5 [==============================] - ETA: 0s - loss: 0.0019 - acc: 1.0000\n",
            "Epoch 98: val_acc did not improve from 1.00000\n",
            "5/5 [==============================] - 9s 2s/step - loss: 0.0019 - acc: 1.0000 - val_loss: 3.4002e-04 - val_acc: 1.0000\n",
            "Epoch 99/100\n",
            "5/5 [==============================] - ETA: 0s - loss: 0.0019 - acc: 1.0000\n",
            "Epoch 99: val_acc did not improve from 1.00000\n",
            "5/5 [==============================] - 10s 2s/step - loss: 0.0019 - acc: 1.0000 - val_loss: 2.4680e-04 - val_acc: 1.0000\n",
            "Epoch 100/100\n",
            "5/5 [==============================] - ETA: 0s - loss: 9.4095e-04 - acc: 1.0000\n",
            "Epoch 100: val_acc did not improve from 1.00000\n",
            "5/5 [==============================] - 9s 2s/step - loss: 9.4095e-04 - acc: 1.0000 - val_loss: 2.4002e-04 - val_acc: 1.0000\n"
          ]
        }
      ]
    },
    {
      "cell_type": "code",
      "source": [
        "import matplotlib.pyplot as plt\n",
        "acc = history.history['acc']\n",
        "val_acc = history.history['val_acc']\n",
        "loss = history.history['loss']\n",
        "val_loss = history.history['val_loss']\n",
        "\n",
        "epochs = range(len(acc))\n",
        "\n",
        "plt.plot(epochs, acc, 'bo', label='Training accuracy')\n",
        "plt.plot(epochs, val_acc, 'b', label='Validation accuracy')\n",
        "plt.title('Training and validation accuracy')\n",
        "\n",
        "plt.figure()\n",
        "\n",
        "plt.plot(epochs, loss, 'bo', label='Training Loss')\n",
        "plt.plot(epochs, val_loss, 'b', label='Validation Loss')\n",
        "plt.title('Training and validation loss')\n",
        "plt.legend()\n",
        "\n",
        "plt.show()"
      ],
      "metadata": {
        "colab": {
          "base_uri": "https://localhost:8080/",
          "height": 545
        },
        "id": "ej06dzZoZJob",
        "outputId": "cdd15b1b-e24b-4ec6-c0a9-8cdce8cdb21d"
      },
      "execution_count": null,
      "outputs": [
        {
          "output_type": "display_data",
          "data": {
            "text/plain": [
              "<Figure size 432x288 with 1 Axes>"
            ],
            "image/png": "[encoded data removed]"
          },
          "metadata": {
            "needs_background": "light"
          }
        },
        {
          "output_type": "display_data",
          "data": {
            "text/plain": [
              "<Figure size 432x288 with 1 Axes>"
            ],
            "image/png": "[encoded data removed]"
          },
          "metadata": {
            "needs_background": "light"
          }
        }
      ]
    },
    {
      "cell_type": "code",
      "source": [
        "# import some of library that we need to look the confusion matrix, recall, f1_score, and accuracy score to look how much your model is well\n",
        "import numpy as np \n",
        "from keras.preprocessing.image import ImageDataGenerator\n",
        "import matplotlib.pyplot as plt\n",
        "from sklearn.metrics import f1_score, recall_score, accuracy_score\n",
        "from sklearn.metrics import precision_score, confusion_matrix, classification_report\n",
        "from sklearn import metrics\n",
        "\n",
        "import seaborn as sns\n",
        "sns.set(style='whitegrid')"
      ],
      "metadata": {
        "id": "j-AM8nzsc_-i"
      },
      "execution_count": null,
      "outputs": []
    },
    {
      "cell_type": "code",
      "source": [
        "def my_metrics(y_true, y_pred):\n",
        "    accuracy=accuracy_score(y_true, y_pred)\n",
        "    precision=precision_score(y_true, y_pred,average='weighted')\n",
        "    f1Score=f1_score(y_true, y_pred, average='weighted') \n",
        "    print(\"Accuracy  : {}\".format(accuracy))\n",
        "    print(\"Precision : {}\".format(precision))\n",
        "    print(\"f1Score : {}\".format(f1Score))\n",
        "    cm=confusion_matrix(y_true, y_pred)\n",
        "    print(cm)\n",
        "    return accuracy, precision, f1Score\n",
        "\n",
        "height=50; width=50\n",
        "batch_size=20\n",
        "\n",
        "test_datagen = ImageDataGenerator(rescale=1./255)\n",
        "\n",
        "TESTING_DIR = '/content/drive/My Drive/Colab Notebooks/Coba/test'\n",
        "\n",
        "test_generator = test_datagen.flow_from_directory(TESTING_DIR,\n",
        "                                                  batch_size=batch_size,                                                             \n",
        "                                                  target_size=(height, width),\n",
        "                                                  class_mode= None,\n",
        "                                                  shuffle=False\n",
        "                                                  )\n",
        "\n",
        "predictions = model.predict_generator(generator=test_generator)\n",
        "yPredictions = predictions > 0.5\n",
        "true_classes = test_generator.classes\n",
        "class_names = test_generator.class_indices\n",
        "Cmatrix_test = confusion_matrix(true_classes, yPredictions)\n",
        "\n",
        "testAcc,testPrec, testFScore = my_metrics(true_classes, yPredictions)\n",
        "\n",
        "plt.figure(figsize=(20,20))\n",
        "ax= plt.subplot()\n",
        "data = np.asarray(Cmatrix_test).reshape(3,3)\n",
        "sns.heatmap(data,annot=True, fmt='',ax=ax, cmap=plt.cm.Reds)\n",
        "ax.set_xlabel('Predicted labels')\n",
        "ax.set_ylabel('True labels') \n",
        "ax.set_title('Confusion Matrix')\n",
        "ax.xaxis.set_ticklabels(class_names)   \n",
        "ax.yaxis.set_ticklabels(class_names)\n",
        "plt.title('Confusion Matrix Test',fontsize=14)\n",
        "plt.show()"
      ],
      "metadata": {
        "colab": {
          "base_uri": "https://localhost:8080/",
          "height": 1000
        },
        "id": "Aw0AzgLVdDIh",
        "outputId": "d3bbad3b-3771-4e84-e8ca-60208f65c6f9"
      },
      "execution_count": null,
      "outputs": [
        {
          "output_type": "stream",
          "name": "stdout",
          "text": [
            "Found 100 images belonging to 2 classes.\n"
          ]
        },
        {
          "output_type": "stream",
          "name": "stderr",
          "text": [
            "/usr/local/lib/python3.7/dist-packages/ipykernel_launcher.py:26: UserWarning: `Model.predict_generator` is deprecated and will be removed in a future version. Please use `Model.predict`, which supports generators.\n"
          ]
        },
        {
          "output_type": "stream",
          "name": "stdout",
          "text": [
            "Accuracy  : 1.0\n",
            "Precision : 1.0\n",
            "f1Score : 1.0\n",
            "[[50  0]\n",
            " [ 0 50]]\n"
          ]
        },
        {
          "output_type": "error",
          "ename": "ValueError",
          "evalue": "ignored",
          "traceback": [
            "\u001b[0;31m---------------------------------------------------------------------------\u001b[0m",
            "\u001b[0;31mValueError\u001b[0m                                Traceback (most recent call last)",
            "\u001b[0;32m<ipython-input-28-ec27fe0d90ff>\u001b[0m in \u001b[0;36m<module>\u001b[0;34m\u001b[0m\n\u001b[1;32m     34\u001b[0m \u001b[0mplt\u001b[0m\u001b[0;34m.\u001b[0m\u001b[0mfigure\u001b[0m\u001b[0;34m(\u001b[0m\u001b[0mfigsize\u001b[0m\u001b[0;34m=\u001b[0m\u001b[0;34m(\u001b[0m\u001b[0;36m20\u001b[0m\u001b[0;34m,\u001b[0m\u001b[0;36m20\u001b[0m\u001b[0;34m)\u001b[0m\u001b[0;34m)\u001b[0m\u001b[0;34m\u001b[0m\u001b[0;34m\u001b[0m\u001b[0m\n\u001b[1;32m     35\u001b[0m \u001b[0max\u001b[0m\u001b[0;34m=\u001b[0m \u001b[0mplt\u001b[0m\u001b[0;34m.\u001b[0m\u001b[0msubplot\u001b[0m\u001b[0;34m(\u001b[0m\u001b[0;34m)\u001b[0m\u001b[0;34m\u001b[0m\u001b[0;34m\u001b[0m\u001b[0m\n\u001b[0;32m---> 36\u001b[0;31m \u001b[0mdata\u001b[0m \u001b[0;34m=\u001b[0m \u001b[0mnp\u001b[0m\u001b[0;34m.\u001b[0m\u001b[0masarray\u001b[0m\u001b[0;34m(\u001b[0m\u001b[0mCmatrix_test\u001b[0m\u001b[0;34m)\u001b[0m\u001b[0;34m.\u001b[0m\u001b[0mreshape\u001b[0m\u001b[0;34m(\u001b[0m\u001b[0;36m3\u001b[0m\u001b[0;34m,\u001b[0m\u001b[0;36m3\u001b[0m\u001b[0;34m)\u001b[0m\u001b[0;34m\u001b[0m\u001b[0;34m\u001b[0m\u001b[0m\n\u001b[0m\u001b[1;32m     37\u001b[0m \u001b[0msns\u001b[0m\u001b[0;34m.\u001b[0m\u001b[0mheatmap\u001b[0m\u001b[0;34m(\u001b[0m\u001b[0mdata\u001b[0m\u001b[0;34m,\u001b[0m\u001b[0mannot\u001b[0m\u001b[0;34m=\u001b[0m\u001b[0;32mTrue\u001b[0m\u001b[0;34m,\u001b[0m \u001b[0mfmt\u001b[0m\u001b[0;34m=\u001b[0m\u001b[0;34m''\u001b[0m\u001b[0;34m,\u001b[0m\u001b[0max\u001b[0m\u001b[0;34m=\u001b[0m\u001b[0max\u001b[0m\u001b[0;34m,\u001b[0m \u001b[0mcmap\u001b[0m\u001b[0;34m=\u001b[0m\u001b[0mplt\u001b[0m\u001b[0;34m.\u001b[0m\u001b[0mcm\u001b[0m\u001b[0;34m.\u001b[0m\u001b[0mReds\u001b[0m\u001b[0;34m)\u001b[0m\u001b[0;34m\u001b[0m\u001b[0;34m\u001b[0m\u001b[0m\n\u001b[1;32m     38\u001b[0m \u001b[0max\u001b[0m\u001b[0;34m.\u001b[0m\u001b[0mset_xlabel\u001b[0m\u001b[0;34m(\u001b[0m\u001b[0;34m'Predicted labels'\u001b[0m\u001b[0;34m)\u001b[0m\u001b[0;34m\u001b[0m\u001b[0;34m\u001b[0m\u001b[0m\n",
            "\u001b[0;31mValueError\u001b[0m: cannot reshape array of size 4 into shape (3,3)"
          ]
        },
        {
          "output_type": "display_data",
          "data": {
            "text/plain": [
              "<Figure size 1440x1440 with 1 Axes>"
            ],
            "image/png": "[encoded data removed]"
          },
          "metadata": {}
        }
      ]
    },
    {
      "cell_type": "code",
      "source": [
        "from sklearn.metrics import classification_report\n",
        "print(classification_report(true_classes, yPredictions, target_names=class_names))"
      ],
      "metadata": {
        "colab": {
          "base_uri": "https://localhost:8080/"
        },
        "id": "QUxAJvYLfA2q",
        "outputId": "f3d7a747-3470-4667-dbfb-7e6850645170"
      },
      "execution_count": null,
      "outputs": [
        {
          "output_type": "stream",
          "name": "stdout",
          "text": [
            "              precision    recall  f1-score   support\n",
            "\n",
            "  Daun Jeruk       1.00      1.00      1.00        50\n",
            "Daun Kemangi       1.00      1.00      1.00        50\n",
            "\n",
            "    accuracy                           1.00       100\n",
            "   macro avg       1.00      1.00      1.00       100\n",
            "weighted avg       1.00      1.00      1.00       100\n",
            "\n"
          ]
        }
      ]
    },
    {
      "cell_type": "code",
      "source": [
        "from google.colab import drive\n",
        "drive.mount('/content/gdrive')"
      ],
      "metadata": {
        "colab": {
          "base_uri": "https://localhost:8080/"
        },
        "id": "ZogTZD2vfDzh",
        "outputId": "220b442a-85df-4647-8e9f-bf71bcff72e9"
      },
      "execution_count": null,
      "outputs": [
        {
          "output_type": "stream",
          "name": "stdout",
          "text": [
            "Mounted at /content/gdrive\n"
          ]
        }
      ]
    },
    {
      "cell_type": "code",
      "source": [
        "\n",
        "import numpy as np\n",
        "from keras.models import load_model\n",
        "model_path = '/content/drive/My Drive/Colab Notebooks/Coba/coba.h5''\n",
        "model = load_model(model_path)\n",
        "\n",
        "from google.colab import files\n",
        "from keras.preprocessing import image\n",
        "from tensorflow.keras.utils import load_img, img_to_array\n",
        "\n",
        "uploaded=files.upload()\n",
        "\n",
        "for fn in uploaded.keys():\n",
        " \n",
        "  \n",
        "  path= fn\n",
        "  img=load_img(path, target_size=(100,100))\n",
        "  \n",
        "  x=img_to_array(img)\n",
        "  x=np.expand_dims(x, axis=0)\n",
        "  images = np.vstack([x])\n",
        "  \n",
        "  classes = model.predict(images, batch_size=100)\n",
        "  \n",
        "  print(classes[0])\n",
        "  \n",
        "  if classes[0]>0:\n",
        "    print(fn + \" is a jeruk\")\n",
        "    \n",
        "  else:\n",
        "    print(fn + \" is a belimbing\")\n",
        " \n"
      ],
      "metadata": {
        "colab": {
          "base_uri": "https://localhost:8080/",
          "height": 130
        },
        "id": "MhTE5lZIfG9h",
        "outputId": "e3e2c995-0238-49c3-eb95-70734b33547c"
      },
      "execution_count": null,
      "outputs": [
        {
          "output_type": "error",
          "ename": "SyntaxError",
          "evalue": "ignored",
          "traceback": [
            "\u001b[0;36m  File \u001b[0;32m\"<ipython-input-4-8feeb8bacb37>\"\u001b[0;36m, line \u001b[0;32m3\u001b[0m\n\u001b[0;31m    model_path = '/content/drive/My Drive/Colab Notebooks/Coba/coba.h5''\u001b[0m\n\u001b[0m                                                                        ^\u001b[0m\n\u001b[0;31mSyntaxError\u001b[0m\u001b[0;31m:\u001b[0m EOL while scanning string literal\n"
          ]
        }
      ]
    }
  ]
}